{
 "cells": [
  {
   "cell_type": "code",
   "execution_count": 1,
   "id": "a0574d57",
   "metadata": {},
   "outputs": [],
   "source": [
    "from selenium import webdriver \n",
    "from selenium.webdriver import ActionChains\n",
    "from selenium.webdriver.common.keys import Keys\n",
    "import time\n",
    "from bs4 import BeautifulSoup\n",
    "import re\n",
    "from selenium.webdriver.common.by import By\n",
    "import lxml\n",
    "import pandas as pd"
   ]
  },
  {
   "cell_type": "code",
   "execution_count": 2,
   "id": "8c329e3e",
   "metadata": {},
   "outputs": [],
   "source": [
    "def insta_searching(word) :\n",
    "    url = 'https://www.instagram.com/explore/tags/' + str(word)\n",
    "    return url\n",
    "def select_first(driver) :\n",
    "    first = driver.find_element(By.CSS_SELECTOR,'div._aagw')\n",
    "    first.click()\n",
    "    time.sleep(3)\n",
    "def get_content(driver) :\n",
    "    html = dr.page_source\n",
    "    soup = BeautifulSoup(html,'lxml')\n",
    "    try:\n",
    "        content = soup.select('div._a9zr')[0].text\n",
    "    except :\n",
    "        content = ''\n",
    "    tags = re.findall(r'#[^\\s#,\\\\]+',content)\n",
    "    date = soup.select('time._a9zf')[0]['datetime'][:10]\n",
    "    try : \n",
    "        like = soup.select('section._aat4')[0].findAll('span')[-1].text\n",
    "    except :\n",
    "        like = 0\n",
    "    try :\n",
    "        place = soup.select('div.M30cS')[0].text\n",
    "    except :\n",
    "        place = ''\n",
    "    data = [content, date, like, place, tags]\n",
    "    return data\n",
    "def move_next(driver) :\n",
    "    right = driver.find_element(By.CSS_SELECTOR,'div._aaqg')\n",
    "    right.click()\n",
    "    time.sleep(3)"
   ]
  },
  {
   "cell_type": "code",
   "execution_count": 32,
   "id": "c951491f",
   "metadata": {},
   "outputs": [
    {
     "name": "stderr",
     "output_type": "stream",
     "text": [
      "C:\\Users\\show4\\AppData\\Local\\Temp\\ipykernel_9688\\414904664.py:2: DeprecationWarning: executable_path has been deprecated, please pass in a Service object\n",
      "  dr = webdriver.Chrome(\"C:/windows/chromedriver.exe\")\n"
     ]
    }
   ],
   "source": [
    "phnum = '' ; psword = ''\n",
    "dr = webdriver.Chrome(\"C:/windows/chromedriver.exe\")\n",
    "dr.set_window_size(400, 850) \t\n",
    "dr.get('https://www.instagram.com/')\n",
    "time.sleep(3) \n",
    "\n",
    "input_id = dr.find_element(By.NAME,'username')\n",
    "input_id.clear()\n",
    "input_id.send_keys(phnum)\n",
    "input_pw = dr.find_element(By.NAME,'password')\n",
    "input_pw.clear()\n",
    "input_pw.send_keys(psword)\n",
    "input_pw.submit()\n",
    "time.sleep(5)\n",
    "\n"
   ]
  },
  {
   "cell_type": "code",
   "execution_count": 4,
   "id": "f616132e",
   "metadata": {},
   "outputs": [
    {
     "name": "stdout",
     "output_type": "stream",
     "text": [
      "검색어 :홍수\n",
      "[['subusunews인증됨서울에만 맨홀 62만 개 ㄷㄷ 폭우에 침수되면 진짜 위험한 이유밤사이 중부지방에 집중 호우가 쏟아지며 도시 곳곳에서 인명피해와 재산피해가 발생했습니다. 지하철역과 도로가 침수되고 맨홀 뚜껑이 수압을 이기지 못하고 들썩거리는 모습도 포착됐습니다. 하지만 이런 맨홀 뚜껑을 보면 당장 피해야 합니다. 그 이유와 안전한 대처법을 스브스뉴스에서 알아봤습니다.2일', '2022-08-09', 0, '', []], ['seoul_official인증됨📢#한강공원 전역 방문 자제현재(8.9.) 서울 전지역 #호우경보 발효 중으로, 기상 상황 호전 및 현장 복구 시까지 한강공원 수영장 4개소(뚝섬·여의도·광나루·잠원) 및 물놀이장 2개소(난지·양화) 운영을 모두 중단합니다.또한, 한강공원 일부 침수구역의 경우 기상 상황이 호전되고 한강 수위가 낮아지더라도 복구 작업이 진행되므로 당분간 이용을 자제하시고, 안전에 각별히 유의해 주세요.📢공공자전거 #따릉이 운행 중단폭우로 인해 따릉이 운행을 중단합니다. 재난상황에 따른 조치로, 안전을 위해 양해와 협조를 부탁드립니다.🔎 #호우, #홍수, #산사태 발생 시 #행동요령👉🏻서울안전누리(safecity.seoul.go.kr) 또는 서울안전 앱 📲#seoul_official2일', '2022-08-09', 0, '', ['#한강공원', '#호우경보', '#따릉이', '#호우', '#홍수', '#산사태', '#행동요령👉🏻서울안전누리(safecity.seoul.go.kr)', '#seoul_official2일']]]\n"
     ]
    }
   ],
   "source": [
    "word = input('검색어 :',)\n",
    "word = str(word)\n",
    "url = insta_searching(word)\n",
    "dr.get(url)\n",
    "time.sleep(8)\n",
    "\n",
    "select_first(dr)\n",
    "results=[]\n",
    "target = 10\n",
    "for i in range(target):\n",
    "    try :\n",
    "        data = get_content(dr)\n",
    "        results.append(data)\n",
    "        move_next(dr)\n",
    "    except :\n",
    "        time.sleep(2)\n",
    "        move_next(dr)\n",
    "print(results[:2])"
   ]
  },
  {
   "cell_type": "code",
   "execution_count": 6,
   "id": "73e5dde4",
   "metadata": {},
   "outputs": [
    {
     "name": "stdout",
     "output_type": "stream",
     "text": [
      "['cyrsartsChibi Lisa 💛@lalalalisa_m I think i liked the lineart better than the finished piece… Sorry for the lazy shading 😛#lisa #lalisa #lisamanoban #blackpink #lisafanart #readyforlove #blackpinkxpubgm #blackpinkfanart #kpop #kpopfanart #cyrsarts #리사 #블랙핑크 #digitalart #digitaldrawing #fanart #digitalillustration #sketch #drawing #dailyart #dailypractice #procreate #procreatedrawing23시간번역 보기', '2022-08-10', 0, '', ['#lisa', '#lalisa', '#lisamanoban', '#blackpink', '#lisafanart', '#readyforlove', '#blackpinkxpubgm', '#blackpinkfanart', '#kpop', '#kpopfanart', '#cyrsarts', '#리사', '#블랙핑크', '#digitalart', '#digitaldrawing', '#fanart', '#digitalillustration', '#sketch', '#drawing', '#dailyart', '#dailypractice', '#procreate', '#procreatedrawing23시간번역']]\n"
     ]
    }
   ],
   "source": [
    "#TEST_ZONE\n",
    "word = str('블랙핑크')\n",
    "url = insta_searching(word)\n",
    "dr.get(url)\n",
    "time.sleep(8)\n",
    "select_first(dr)\n",
    "#data = dr.page_source\n",
    "data = get_content(dr)\n",
    "print(data)"
   ]
  },
  {
   "cell_type": "code",
   "execution_count": 8,
   "id": "56a81362",
   "metadata": {},
   "outputs": [
    {
     "data": {
      "text/plain": [
       "[['wo_k_sh_p_.__g🌟가치를 상승시키는 업스타그램🌟⠀업스타그램의 커스터마이징 서비스!🎁 빅데이터 계정 관리🎁 인기탭/인기게시물 노출🎁 최적화계정 대량 배포🎁 좋아요/팔로워늘리기⠀이젠 원하는 서비스를 골라나만의 맞춤 상품을 만들어보세요!⠀시간과 비용을 줄여주는업스타그램의 커스터마이징 서비스😎⠀📞 프로필 링크 클릭하고 자세히 상담 받기⠀─⠀#풀빌라#제주펜션#경주풀빌라#독채풀빌라#s20케이스#갤럭시s8플러스케이스#안면도풀빌라26분',\n",
       "  '2022-08-11',\n",
       "  0,\n",
       "  '',\n",
       "  ['#풀빌라',\n",
       "   '#제주펜션',\n",
       "   '#경주풀빌라',\n",
       "   '#독채풀빌라',\n",
       "   '#s20케이스',\n",
       "   '#갤럭시s8플러스케이스',\n",
       "   '#안면도풀빌라26분']],\n",
       " ['gyeotgyeop🔅8월.9월 예약 가능일🔅-8월 14일,24일 (본채) 예약가능합니다.-9월 예약18일,19일,20일, 26일,27일 (본채)9일,12일,17일,21일 (별채)---일상의 곁,찰나를 포개어 추억의 겹을 만들어 갑니다.소중한 사람들과의 순간을 켜켜이 쌓아당신만의 곁겹에 닿기를.#곁겹 #gyeotgyeop5시간',\n",
       "  '2022-08-11',\n",
       "  0,\n",
       "  '',\n",
       "  ['#곁겹', '#gyeotgyeop5시간']]]"
      ]
     },
     "execution_count": 8,
     "metadata": {},
     "output_type": "execute_result"
    }
   ],
   "source": [
    "results[:2]"
   ]
  }
 ],
 "metadata": {
  "kernelspec": {
   "display_name": "Python 3 (ipykernel)",
   "language": "python",
   "name": "python3"
  },
  "language_info": {
   "codemirror_mode": {
    "name": "ipython",
    "version": 3
   },
   "file_extension": ".py",
   "mimetype": "text/x-python",
   "name": "python",
   "nbconvert_exporter": "python",
   "pygments_lexer": "ipython3",
   "version": "3.9.10"
  }
 },
 "nbformat": 4,
 "nbformat_minor": 5
}
